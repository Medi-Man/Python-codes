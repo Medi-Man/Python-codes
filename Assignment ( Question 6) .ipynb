{
 "cells": [
  {
   "cell_type": "markdown",
   "metadata": {},
   "source": [
    "# 6. Write a function called matches that takes two strings as arguments and returns how many matches there are between the strings. A match is where the two strings have the same character at the same index. For instance, ' python ' and ' path ' match in the first, third, and fourth characters, so the function should return 3.\n"
   ]
  },
  {
   "cell_type": "code",
   "execution_count": 36,
   "metadata": {},
   "outputs": [
    {
     "data": {
      "text/plain": [
       "3"
      ]
     },
     "execution_count": 36,
     "metadata": {},
     "output_type": "execute_result"
    }
   ],
   "source": [
    "def match (a,b):\n",
    "    count =0\n",
    "    \n",
    "    if len(a)>len (b):\n",
    "        for i in range (len(b)):\n",
    "            if a[i]== b[i]:\n",
    "                count+=1\n",
    "               \n",
    "                \n",
    "    else:\n",
    "        for i in range (len(a)):\n",
    "            if a[i]== b[i]:\n",
    "                count+=1\n",
    "    \n",
    "    \n",
    "    return count \n",
    "                \n",
    "        \n",
    "       \n",
    "match ( \"python\",\"path\")"
   ]
  },
  {
   "cell_type": "code",
   "execution_count": null,
   "metadata": {},
   "outputs": [],
   "source": []
  }
 ],
 "metadata": {
  "kernelspec": {
   "display_name": "Python 3",
   "language": "python",
   "name": "python3"
  },
  "language_info": {
   "codemirror_mode": {
    "name": "ipython",
    "version": 3
   },
   "file_extension": ".py",
   "mimetype": "text/x-python",
   "name": "python",
   "nbconvert_exporter": "python",
   "pygments_lexer": "ipython3",
   "version": "3.6.6"
  }
 },
 "nbformat": 4,
 "nbformat_minor": 2
}
